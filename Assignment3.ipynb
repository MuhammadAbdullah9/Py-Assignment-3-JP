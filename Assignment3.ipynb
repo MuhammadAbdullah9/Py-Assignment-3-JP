{
 "cells": [
  {
   "cell_type": "code",
   "execution_count": 1,
   "id": "d470dec3",
   "metadata": {},
   "outputs": [
    {
     "name": "stdout",
     "output_type": "stream",
     "text": [
      "Twinkle, twinkle, little star,\n",
      "          How I wonder what you are!\n",
      "                    Up above the world so high,\n",
      "                    Like a diamond in the sky.\n",
      "Twinkle, twinkle, little star,\n",
      "         How I wonder what you are!\n"
     ]
    }
   ],
   "source": [
    "# 1. write a program to print the following string an a speci.......\n",
    "\n",
    "#ANSWER:\n",
    "\n",
    "print(\"\"\"Twinkle, twinkle, little star,\n",
    "          How I wonder what you are!\n",
    "                    Up above the world so high,\n",
    "                    Like a diamond in the sky.\n",
    "Twinkle, twinkle, little star,\n",
    "         How I wonder what you are!\"\"\")"
   ]
  },
  {
   "cell_type": "code",
   "execution_count": 2,
   "id": "f4421d1c",
   "metadata": {},
   "outputs": [
    {
     "data": {
      "text/plain": [
       "'3.9.7'"
      ]
     },
     "execution_count": 2,
     "metadata": {},
     "output_type": "execute_result"
    }
   ],
   "source": [
    "# 2. Write a python program to get the python version you are using\n",
    "\n",
    "#ANSWER:\n",
    "\n",
    "from platform import python_version\n",
    "\n",
    "python_version()"
   ]
  },
  {
   "cell_type": "code",
   "execution_count": 3,
   "id": "3af57cff",
   "metadata": {},
   "outputs": [
    {
     "data": {
      "text/plain": [
       "'2021-10-24 10:58:56'"
      ]
     },
     "metadata": {},
     "output_type": "display_data"
    }
   ],
   "source": [
    "# 3. Program to display current date and time\n",
    "\n",
    "import datetime\n",
    "display(datetime.datetime.now().strftime(\"%Y-%m-%d %H:%M:%S\"))"
   ]
  },
  {
   "cell_type": "code",
   "execution_count": 7,
   "id": "4741d378",
   "metadata": {},
   "outputs": [
    {
     "name": "stdout",
     "output_type": "stream",
     "text": [
      "Enter the radius of a circle 5\n",
      "\n",
      "radius in cm: 5\n",
      "Area is : 78.55 square-cm\n"
     ]
    }
   ],
   "source": [
    "# 4. Program for area of circle with user radius\n",
    "\n",
    "pi = 3.142\n",
    "radius = int(input(\"Enter the radius of a circle \"))\n",
    "\n",
    "print(f\"\\nradius in cm: {radius}\")\n",
    "if radius >= 1:\n",
    "    print(f\"Area is : {pi* radius**2} square-cm\")\n",
    "    \n",
    "elif radius == 0:\n",
    "    print(\"No any area Ofcourse without radius\")\n",
    "    \n",
    "else:\n",
    "    print(\"Enter the positive integer value only\")"
   ]
  },
  {
   "cell_type": "code",
   "execution_count": 8,
   "id": "3e810847",
   "metadata": {},
   "outputs": [
    {
     "name": "stdout",
     "output_type": "stream",
     "text": [
      "Enter your Last name : Imtiaz\n",
      "Enter your First name : Abdullah\n",
      "Imtiaz Abdullah\n"
     ]
    }
   ],
   "source": [
    "# 5. first and last name from user input and printing reversed\n",
    "\n",
    "lastName = input(\"Enter your Last name : \")\n",
    "firstName = input(\"Enter your First name : \")\n",
    "\n",
    "print(f\"{lastName} {firstName}\")"
   ]
  },
  {
   "cell_type": "code",
   "execution_count": 9,
   "id": "7a296bc6",
   "metadata": {},
   "outputs": [
    {
     "name": "stdout",
     "output_type": "stream",
     "text": [
      "Enter a number: 2\n",
      "Enter another number: 2\n",
      "4\n"
     ]
    }
   ],
   "source": [
    "# 6. program for addition of two user inputs\n",
    "\n",
    "num1 = int(input(\"Enter a number: \"))\n",
    "num2 = int(input(\"Enter another number: \"))\n",
    "\n",
    "print(num1+num2)"
   ]
  },
  {
   "cell_type": "code",
   "execution_count": 18,
   "id": "ce5a083e",
   "metadata": {},
   "outputs": [
    {
     "name": "stdout",
     "output_type": "stream",
     "text": [
      "Enter any 5 different subject marks out of 100\n",
      "\n",
      "sub1 70\n",
      "sub2 70\n",
      "sub3 70\n",
      "sub4 70\n",
      "sub5 70\n",
      "TotalMarks=500, marksObtained = 350\n",
      "\n",
      "Your percentage is : 70.0\n",
      "\n",
      "You passed the exam\n"
     ]
    }
   ],
   "source": [
    "# 7. marksheet of 5 different subjects\n",
    "\n",
    "list1= []\n",
    "marks_obtained = 0\n",
    "total_marks = 500\n",
    "\n",
    "print(\"Enter any 5 different subject marks out of 100\\n\")\n",
    "\n",
    "for i in range(1,6):\n",
    "    sub_marks = int(input(f\"sub{i} \"))\n",
    "    if sub_marks < 0:\n",
    "        print(\"Should be positive only.... this one has been excluded\")\n",
    "    else:\n",
    "        list1.append(sub_marks)\n",
    "\n",
    "for marks in list1:\n",
    "    marks_obtained += marks\n",
    "    \n",
    "\n",
    "print(f\"TotalMarks={total_marks}, marksObtained = {marks_obtained}\\n\")\n",
    "\n",
    "percentage = (marks_obtained/total_marks)*100\n",
    "\n",
    "print(f\"Your percentage is : {percentage}\\n\")\n",
    "\n",
    "if percentage > 80 and percentage <= 100:\n",
    "    print(\"You get A+ grade\")\n",
    "\n",
    "elif percentage >= 70 and percentage <=80 :\n",
    "    print(\"You passed the exam\")\n",
    "    \n",
    "elif percentage < 70 :\n",
    "    print(\"keep working hard... try again\")\n",
    "\n"
   ]
  },
  {
   "cell_type": "code",
   "execution_count": 27,
   "id": "96b9e476",
   "metadata": {},
   "outputs": [
    {
     "name": "stdout",
     "output_type": "stream",
     "text": [
      "Enter any number :\n",
      "-55\n",
      "-55 is odd\n"
     ]
    }
   ],
   "source": [
    "# 8. user input is even or odd\n",
    "\n",
    "num = int(input(\"Enter any number :\\n\"))\n",
    "\n",
    "if num == 0 :\n",
    "    print(f\"{num} is neither even nor odd\")\n",
    "elif num % 2 == 0:\n",
    "    print(f\"{num} is even\")\n",
    "else:\n",
    "    print(f\"{num} is odd\")"
   ]
  },
  {
   "cell_type": "code",
   "execution_count": 28,
   "id": "509a81c1",
   "metadata": {},
   "outputs": [
    {
     "data": {
      "text/plain": [
       "5"
      ]
     },
     "execution_count": 28,
     "metadata": {},
     "output_type": "execute_result"
    }
   ],
   "source": [
    "# 9. print the length of list\n",
    "\n",
    "list = [1,2,3,4,5]\n",
    "\n",
    "len(list)"
   ]
  },
  {
   "cell_type": "code",
   "execution_count": 30,
   "id": "4521d689",
   "metadata": {},
   "outputs": [
    {
     "name": "stdout",
     "output_type": "stream",
     "text": [
      "40\n"
     ]
    }
   ],
   "source": [
    "# 10. sum all numeric items in a list\n",
    "\n",
    "list = [10,15,\"Abd\", 9, 6, \"bb\"]\n",
    "sum = 0\n",
    "\n",
    "for item in list:\n",
    "    if type(item) == int :\n",
    "        sum += item\n",
    "    else:\n",
    "        continue\n",
    "        \n",
    "print(sum)"
   ]
  },
  {
   "cell_type": "code",
   "execution_count": 31,
   "id": "4cf9b16d",
   "metadata": {},
   "outputs": [
    {
     "data": {
      "text/plain": [
       "99"
      ]
     },
     "execution_count": 31,
     "metadata": {},
     "output_type": "execute_result"
    }
   ],
   "source": [
    "# 11. largest number from numeric list\n",
    "\n",
    "list = [5,4,6,7,8,9,20,88,22,44,6,78,99]\n",
    "\n",
    "max(list)"
   ]
  },
  {
   "cell_type": "code",
   "execution_count": 33,
   "id": "e81a2ddc",
   "metadata": {},
   "outputs": [
    {
     "name": "stdout",
     "output_type": "stream",
     "text": [
      "1\n",
      "1\n",
      "2\n",
      "3\n"
     ]
    }
   ],
   "source": [
    "# 12. print the numbers less than 5\n",
    "\n",
    "list = [1,1,2,3,5,8,13,21,34,55,89]\n",
    "\n",
    "for num in list:\n",
    "    if num < 5 :\n",
    "        print(num)\n",
    "    else: continue"
   ]
  },
  {
   "cell_type": "code",
   "execution_count": null,
   "id": "4a7ef4a2",
   "metadata": {},
   "outputs": [],
   "source": []
  }
 ],
 "metadata": {
  "kernelspec": {
   "display_name": "pythonJP",
   "language": "python",
   "name": "pythonjp"
  },
  "language_info": {
   "codemirror_mode": {
    "name": "ipython",
    "version": 3
   },
   "file_extension": ".py",
   "mimetype": "text/x-python",
   "name": "python",
   "nbconvert_exporter": "python",
   "pygments_lexer": "ipython3",
   "version": "3.9.7"
  }
 },
 "nbformat": 4,
 "nbformat_minor": 5
}
